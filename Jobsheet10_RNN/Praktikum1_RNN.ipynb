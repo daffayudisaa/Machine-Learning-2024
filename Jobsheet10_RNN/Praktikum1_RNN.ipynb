{
  "nbformat": 4,
  "nbformat_minor": 0,
  "metadata": {
    "colab": {
      "provenance": []
    },
    "kernelspec": {
      "name": "python3",
      "display_name": "Python 3"
    },
    "language_info": {
      "name": "python"
    }
  },
  "cells": [
    {
      "cell_type": "markdown",
      "source": [
        "# Praktikum 1 - RNN untuk Analisis Sentimen\n",
        "\n",
        "**Nama : Daffa Yudisa Akbar**\n",
        "\n",
        "**Kelas : TI-3A / 06**\n",
        "\n",
        "**NIM : 2241720008**\n",
        "\n",
        "## Setup\n",
        "\n",
        "Impor matplotlib dan buat fungsi pembantu untuk memplot grafik:"
      ],
      "metadata": {
        "id": "t85ddeyl2zDc"
      }
    },
    {
      "cell_type": "code",
      "execution_count": 16,
      "metadata": {
        "id": "H5PRSRDZ2xy-"
      },
      "outputs": [],
      "source": [
        "import numpy as np\n",
        "import tensorflow_datasets as tfds\n",
        "import tensorflow as tf\n",
        "\n",
        "tfds.disable_progress_bar()"
      ]
    },
    {
      "cell_type": "code",
      "source": [
        "import matplotlib.pyplot as plt\n",
        "\n",
        "def plot_graphs(history, metric):\n",
        "  plt.plot(history.history[metric])\n",
        "  plt.plot(history.history['val_'+metric], '')\n",
        "  plt.xlabel(\"Epochs\")\n",
        "  plt.ylabel(metric)\n",
        "  plt.legend([metric, 'val_'+metric])"
      ],
      "metadata": {
        "id": "jBJFnszR3Kpv"
      },
      "execution_count": 17,
      "outputs": []
    },
    {
      "cell_type": "markdown",
      "source": [
        "## Setup input pipeline\n",
        "\n",
        "Dataset ulasan film IMDB adalah kumpulan data klasifikasi biner—semua ulasan memiliki sentimen positif atau negatif.\n",
        "\n",
        "Download dataset menggunakan TFDS. Lihat loading text tutorial jika ingin me load data secara manual"
      ],
      "metadata": {
        "id": "iaK5pZbb3b8q"
      }
    },
    {
      "cell_type": "code",
      "source": [
        "dataset, info = tfds.load('imdb_reviews', with_info=True, as_supervised=True)\n",
        "train_dataset, test_dataset = dataset['train'], dataset['test']\n",
        "\n",
        "train_dataset.element_spec"
      ],
      "metadata": {
        "colab": {
          "base_uri": "https://localhost:8080/"
        },
        "id": "XMdngFEQ3f69",
        "outputId": "cf547643-db24-46ce-cd67-ec138fc6d157"
      },
      "execution_count": 18,
      "outputs": [
        {
          "output_type": "execute_result",
          "data": {
            "text/plain": [
              "(TensorSpec(shape=(), dtype=tf.string, name=None),\n",
              " TensorSpec(shape=(), dtype=tf.int64, name=None))"
            ]
          },
          "metadata": {},
          "execution_count": 18
        }
      ]
    },
    {
      "cell_type": "markdown",
      "source": [
        "Awalnya ini mengembalikan dataset (teks, pasangan label):"
      ],
      "metadata": {
        "id": "7Dv2xCrd3qfX"
      }
    },
    {
      "cell_type": "code",
      "source": [
        "for example, label in train_dataset.take(1):\n",
        "  print('text: ', example.numpy())\n",
        "  print('label: ', label.numpy())"
      ],
      "metadata": {
        "colab": {
          "base_uri": "https://localhost:8080/"
        },
        "id": "mUWBW9P03rNL",
        "outputId": "b3473217-e1b5-488b-fccc-fa23e909389b"
      },
      "execution_count": 19,
      "outputs": [
        {
          "output_type": "stream",
          "name": "stdout",
          "text": [
            "text:  b\"This was an absolutely terrible movie. Don't be lured in by Christopher Walken or Michael Ironside. Both are great actors, but this must simply be their worst role in history. Even their great acting could not redeem this movie's ridiculous storyline. This movie is an early nineties US propaganda piece. The most pathetic scenes were those when the Columbian rebels were making their cases for revolutions. Maria Conchita Alonso appeared phony, and her pseudo-love affair with Walken was nothing but a pathetic emotional plug in a movie that was devoid of any real meaning. I am disappointed that there are movies like this, ruining actor's like Christopher Walken's good name. I could barely sit through it.\"\n",
            "label:  0\n"
          ]
        }
      ]
    },
    {
      "cell_type": "markdown",
      "source": [
        "Berikutnya acak data untuk pelatihan dan membuat kumpulan pasangan (teks, label) ini:"
      ],
      "metadata": {
        "id": "mJOGYLVd3sz7"
      }
    },
    {
      "cell_type": "code",
      "source": [
        "BUFFER_SIZE = 10000\n",
        "BATCH_SIZE = 64\n",
        "\n",
        "train_dataset = train_dataset.shuffle(BUFFER_SIZE).batch(BATCH_SIZE).prefetch(tf.data.AUTOTUNE)\n",
        "test_dataset = test_dataset.batch(BATCH_SIZE).prefetch(tf.data.AUTOTUNE)\n",
        "\n",
        "for example, label in train_dataset.take(1):\n",
        "  print('texts: ', example.numpy()[:3])\n",
        "  print()\n",
        "  print('labels: ', label.numpy()[:3])\n"
      ],
      "metadata": {
        "colab": {
          "base_uri": "https://localhost:8080/"
        },
        "id": "nFeRLkv93uQe",
        "outputId": "8339542f-9832-4d70-e529-c04d3de8c360"
      },
      "execution_count": 20,
      "outputs": [
        {
          "output_type": "stream",
          "name": "stdout",
          "text": [
            "texts:  [b'\"The College Girl Murders\" is my first acquaintance with the writing work of Edgar Wallace \\xc2\\x96 and generally my first real acquaintance with \"Krimi\" films in general \\xc2\\x96 and I can say that I\\'m moderately impressed. This stuff is really entertaining, although I never would have expected it to be so \\xc2\\x85 goofy! The film has an exhilarating and nicely convoluted plot, with a healthy dose of humor, flamboyant twists and pretty inventive killings. There\\'s some James Bond type of evil mastermind \\xc2\\x96 who always sits in the shadow and in front of a large monitor - recruiting prisoners to kill certain girls at a specific college with a new type of poison. There\\'s also a villainous monk with a whip, dressed like a communist KKK member, getting rid of the leftover characters, like overly curious teachers and such, as well as a kooky police commissioner who persists on solving the case with a psychological approach. Seriously, if I had known sooner that these Krimi films were so colorful and crazy, I would have purchased a whole collection of them already. The pretzel plot actually raises more questions than it answers in the end, and the overload of comical gimmicks on the account of Scotland Yard Inspector Higgins are sometimes a bit much to swallow, but I don\\'t care because it was sublime entertainment. Even the funky 60\\'s soundtrack remained stuck in my head for a long time. It\\'s like a variant on the Italian Giallo, but with slapstick elements.'\n",
            " b'This effort is based on the true story of Jim Morris, a high school science teacher/baseball coach, who is inspired by his players to try out for the pros and fulfill his life-long dream of playing in the majors. Dennis Quaid, no stranger to sports films, plays Morris with enough conviction to make the part work and the producers do a credible job of recreating the real-world events that led to Morris brief stint as a relief pitcher for the woefull Tampa Bay Devil Rays. The first half of the film, dealing with his rag tag bunch of High School Baseball players (all of whom look way too old to actualy be in High School) is less effective and probably a bit too long. Overall the film does suffer from some pacing issues and a few extra subplots that we probably could have done without. However, it is still a fairly involving movie with an inspirational theme that proves once again that baseball is the national pastime for a reason. GRADE: B-'\n",
            " b\"I won't go into too much detail about the plot of this movie as other reviewers have covered pretty much the same ground.<br /><br />Just wanted to say that I really enjoyed the film very much. Peter Falk's performance alone is reason enough to watch the film.<br /><br />A small scale 'road trip' movie with Falk & Paul Reiser in upstate NY in the fall is the setting for most of the action in the film.<br /><br />Very well written with an adult target audience in mind. Plenty of reality based humor & some well played drama give the film a feeling that it could be your own family.<br /><br />Really can't say enough about this film except that it's a damn shame that a lovely movie like this doesn't get more exposure while other trashy junk out there does.<br /><br />It's great to see Falk with a big leading man role again & he makes the most of it. It proves that his famous friend & writer/director John Casavettes was right in casting Falk in many of his ground breaking films of the 60s & 70s.\"]\n",
            "\n",
            "labels:  [1 1 1]\n"
          ]
        }
      ]
    },
    {
      "cell_type": "markdown",
      "source": [
        "## Buat Teks Encoder\n",
        "\n",
        "Teks mentah yang dimuat oleh tfds perlu diproses sebelum dapat digunakan dalam model. Cara termudah memproses teks untuk pelatihan adalah menggunakan lapisan TextVectorization. Lapisan ini memiliki banyak kemampuan, namun pada tutorial ini menggunakan perilaku default. Buat lapisan tersebut, dan teruskan teks kumpulan data ke metode .adapt lapisan:"
      ],
      "metadata": {
        "id": "d7Tb5Nig35tU"
      }
    },
    {
      "cell_type": "code",
      "source": [
        "VOCAB_SIZE = 1000\n",
        "encoder = tf.keras.layers.TextVectorization(\n",
        "    max_tokens=VOCAB_SIZE)\n",
        "encoder.adapt(train_dataset.map(lambda text, label: text))"
      ],
      "metadata": {
        "id": "AtP7YUGJ38qO"
      },
      "execution_count": 21,
      "outputs": []
    },
    {
      "cell_type": "markdown",
      "source": [
        "Metode .adapt mengatur kosakata lapisan. 20 token pertama dapat dilihat dengan kode berikut. Setelah padding dan token yang tidak diketahui, mereka diurutkan berdasarkan frekuensi:"
      ],
      "metadata": {
        "id": "30hawmw44AMf"
      }
    },
    {
      "cell_type": "code",
      "source": [
        "vocab = np.array(encoder.get_vocabulary())\n",
        "vocab[:20]"
      ],
      "metadata": {
        "colab": {
          "base_uri": "https://localhost:8080/"
        },
        "id": "YkePHw-e4Az6",
        "outputId": "9924fe74-5a3c-4ca2-a100-da55e22fe860"
      },
      "execution_count": 22,
      "outputs": [
        {
          "output_type": "execute_result",
          "data": {
            "text/plain": [
              "array(['', '[UNK]', 'the', 'and', 'a', 'of', 'to', 'is', 'in', 'it', 'i',\n",
              "       'this', 'that', 'br', 'was', 'as', 'for', 'with', 'movie', 'but'],\n",
              "      dtype='<U14')"
            ]
          },
          "metadata": {},
          "execution_count": 22
        }
      ]
    },
    {
      "cell_type": "markdown",
      "source": [
        "Setelah kosakata diatur, lapisan dapat mengkodekan teks ke dalam indeks. Tensor indeks diberi bantalan 0 ke urutan terpanjang dalam batch (kecuali jika Anda menetapkan output_sequence_length tetap):"
      ],
      "metadata": {
        "id": "Rz6_CuLr4HKa"
      }
    },
    {
      "cell_type": "code",
      "source": [
        "encoded_example = encoder(example)[:3].numpy()\n",
        "encoded_example"
      ],
      "metadata": {
        "colab": {
          "base_uri": "https://localhost:8080/"
        },
        "id": "lHgEBKz_4Ibz",
        "outputId": "16b47d4b-49b4-4a26-a762-ae3e2784f000"
      },
      "execution_count": 23,
      "outputs": [
        {
          "output_type": "execute_result",
          "data": {
            "text/plain": [
              "array([[  2,   1, 247, ...,   0,   0,   0],\n",
              "       [ 11, 777,   7, ...,   0,   0,   0],\n",
              "       [ 10, 469, 138, ...,   0,   0,   0]])"
            ]
          },
          "metadata": {},
          "execution_count": 23
        }
      ]
    },
    {
      "cell_type": "markdown",
      "source": [
        "Dengan pengaturan default, prosesnya tidak dapat dibalik sepenuhnya. Ada dua alasan utama untuk itu:\n",
        "\n",
        "* Nilai default untuk argumen standarisasi preprocessing.TextVectorization adalah \"lower_and_strip_punctuation\".\n",
        "\n",
        "* Ukuran kosa kata yang terbatas dan kurangnya fallback berbasis karakter menghasilkan beberapa token yang tidak diketahui."
      ],
      "metadata": {
        "id": "_h1pOFov4LCN"
      }
    },
    {
      "cell_type": "code",
      "source": [
        "for n in range(3):\n",
        "  print(\"Original: \", example[n].numpy())\n",
        "  print(\"Round-trip: \", \" \".join(vocab[encoded_example[n]]))\n",
        "  print()"
      ],
      "metadata": {
        "colab": {
          "base_uri": "https://localhost:8080/"
        },
        "id": "u8lVkEhi4ORK",
        "outputId": "82d094a1-f256-45fb-ca8f-3984a1cd49df"
      },
      "execution_count": 24,
      "outputs": [
        {
          "output_type": "stream",
          "name": "stdout",
          "text": [
            "Original:  b'\"The College Girl Murders\" is my first acquaintance with the writing work of Edgar Wallace \\xc2\\x96 and generally my first real acquaintance with \"Krimi\" films in general \\xc2\\x96 and I can say that I\\'m moderately impressed. This stuff is really entertaining, although I never would have expected it to be so \\xc2\\x85 goofy! The film has an exhilarating and nicely convoluted plot, with a healthy dose of humor, flamboyant twists and pretty inventive killings. There\\'s some James Bond type of evil mastermind \\xc2\\x96 who always sits in the shadow and in front of a large monitor - recruiting prisoners to kill certain girls at a specific college with a new type of poison. There\\'s also a villainous monk with a whip, dressed like a communist KKK member, getting rid of the leftover characters, like overly curious teachers and such, as well as a kooky police commissioner who persists on solving the case with a psychological approach. Seriously, if I had known sooner that these Krimi films were so colorful and crazy, I would have purchased a whole collection of them already. The pretzel plot actually raises more questions than it answers in the end, and the overload of comical gimmicks on the account of Scotland Yard Inspector Higgins are sometimes a bit much to swallow, but I don\\'t care because it was sublime entertainment. Even the funky 60\\'s soundtrack remained stuck in my head for a long time. It\\'s like a variant on the Italian Giallo, but with slapstick elements.'\n",
            "Round-trip:  the [UNK] girl [UNK] is my first [UNK] with the writing work of [UNK] [UNK]  and [UNK] my first real [UNK] with [UNK] films in general  and i can say that im [UNK] [UNK] this stuff is really entertaining although i never would have expected it to be so [UNK] [UNK] the film has an [UNK] and [UNK] [UNK] plot with a [UNK] [UNK] of humor [UNK] [UNK] and pretty [UNK] [UNK] theres some james [UNK] type of evil [UNK]  who always [UNK] in the [UNK] and in [UNK] of a [UNK] [UNK] [UNK] [UNK] to kill certain girls at a [UNK] [UNK] with a new type of [UNK] theres also a [UNK] [UNK] with a [UNK] [UNK] like a [UNK] [UNK] [UNK] getting [UNK] of the [UNK] characters like [UNK] [UNK] [UNK] and such as well as a [UNK] police [UNK] who [UNK] on [UNK] the case with a [UNK] [UNK] seriously if i had known [UNK] that these [UNK] films were so [UNK] and crazy i would have [UNK] a whole [UNK] of them already the [UNK] plot actually [UNK] more [UNK] than it [UNK] in the end and the [UNK] of [UNK] [UNK] on the [UNK] of [UNK] [UNK] [UNK] [UNK] are sometimes a bit much to [UNK] but i dont care because it was [UNK] entertainment even the [UNK] [UNK] soundtrack [UNK] [UNK] in my head for a long time its like a [UNK] on the [UNK] [UNK] but with [UNK] elements                                                                                                                                                                                                                                                                                                                                                                                                                                                                                                                                                                                                                                                                                                                                                                                                                                                                                                                                 \n",
            "\n",
            "Original:  b'This effort is based on the true story of Jim Morris, a high school science teacher/baseball coach, who is inspired by his players to try out for the pros and fulfill his life-long dream of playing in the majors. Dennis Quaid, no stranger to sports films, plays Morris with enough conviction to make the part work and the producers do a credible job of recreating the real-world events that led to Morris brief stint as a relief pitcher for the woefull Tampa Bay Devil Rays. The first half of the film, dealing with his rag tag bunch of High School Baseball players (all of whom look way too old to actualy be in High School) is less effective and probably a bit too long. Overall the film does suffer from some pacing issues and a few extra subplots that we probably could have done without. However, it is still a fairly involving movie with an inspirational theme that proves once again that baseball is the national pastime for a reason. GRADE: B-'\n",
            "Round-trip:  this effort is based on the true story of [UNK] [UNK] a high school [UNK] [UNK] [UNK] who is [UNK] by his [UNK] to try out for the [UNK] and [UNK] his [UNK] dream of playing in the [UNK] [UNK] [UNK] no [UNK] to [UNK] films plays [UNK] with enough [UNK] to make the part work and the [UNK] do a [UNK] job of [UNK] the [UNK] events that [UNK] to [UNK] [UNK] [UNK] as a [UNK] [UNK] for the [UNK] [UNK] [UNK] [UNK] [UNK] the first half of the film [UNK] with his [UNK] [UNK] bunch of high school [UNK] [UNK] all of whom look way too old to [UNK] be in high school is less [UNK] and probably a bit too long overall the film does [UNK] from some [UNK] [UNK] and a few [UNK] [UNK] that we probably could have done without however it is still a fairly [UNK] movie with an [UNK] theme that [UNK] once again that [UNK] is the [UNK] [UNK] for a reason [UNK] b                                                                                                                                                                                                                                                                                                                                                                                                                                                                                                                                                                                                                                                                                                                                                                                                                                                                                                                                                                                                              \n",
            "\n",
            "Original:  b\"I won't go into too much detail about the plot of this movie as other reviewers have covered pretty much the same ground.<br /><br />Just wanted to say that I really enjoyed the film very much. Peter Falk's performance alone is reason enough to watch the film.<br /><br />A small scale 'road trip' movie with Falk & Paul Reiser in upstate NY in the fall is the setting for most of the action in the film.<br /><br />Very well written with an adult target audience in mind. Plenty of reality based humor & some well played drama give the film a feeling that it could be your own family.<br /><br />Really can't say enough about this film except that it's a damn shame that a lovely movie like this doesn't get more exposure while other trashy junk out there does.<br /><br />It's great to see Falk with a big leading man role again & he makes the most of it. It proves that his famous friend & writer/director John Casavettes was right in casting Falk in many of his ground breaking films of the 60s & 70s.\"\n",
            "Round-trip:  i wont go into too much [UNK] about the plot of this movie as other [UNK] have [UNK] pretty much the same [UNK] br just wanted to say that i really enjoyed the film very much peter [UNK] performance alone is reason enough to watch the filmbr br a small [UNK] [UNK] [UNK] movie with [UNK] paul [UNK] in [UNK] [UNK] in the fall is the setting for most of the action in the filmbr br very well written with an [UNK] [UNK] audience in mind plenty of reality based humor some well played drama give the film a feeling that it could be your own [UNK] br really cant say enough about this film except that its a [UNK] shame that a [UNK] movie like this doesnt get more [UNK] while other [UNK] [UNK] out there [UNK] br its great to see [UNK] with a big leading man role again he makes the most of it it [UNK] that his famous friend [UNK] john [UNK] was right in casting [UNK] in many of his [UNK] [UNK] films of the [UNK] 70s                                                                                                                                                                                                                                                                                                                                                                                                                                                                                                                                                                                                                                                                                                                                                                                                                                                                                                                                                                                                    \n",
            "\n"
          ]
        }
      ]
    },
    {
      "cell_type": "markdown",
      "source": [
        "## Buat Model\n",
        "\n",
        "diagram model dapat dilihat pada gambar diatas\n",
        "\n",
        "* Model ini dapat dibuat sebagai tf.keras.Sequential.\n",
        "\n",
        "* Lapisan pertama adalah encoder, yang mengubah teks menjadi urutan indeks token.\n",
        "\n",
        "* Setelah encoder adalah lapisan penyematan (embedding layer). Lapisan penyematan menyimpan satu vektor per kata. Saat dipanggil, ini mengubah rangkaian indeks kata menjadi rangkaian vektor. Vektor-vektor ini dapat dilatih. Setelah pelatihan (dengan data yang cukup), kata-kata dengan arti yang mirip sering kali memiliki vektor yang serupa. Pencarian indeks ini jauh lebih efisien daripada operasi setara dengan meneruskan vektor yang disandikan one-hot melalui lapisan tf.keras.layers.Dense.\n",
        "\n",
        "* Jaringan saraf berulang (RNN) memproses masukan urutan dengan melakukan iterasi melalui elemen. RNN meneruskan keluaran dari satu langkah waktu ke masukannya pada langkah waktu berikutnya.\n",
        "\n",
        "* Pembungkus tf.keras.layers.Bidirection juga dapat digunakan dengan lapisan RNN. Ini menyebarkan masukan maju dan mundur melalui lapisan RNN dan kemudian menggabungkan keluaran akhir.\n",
        "\n",
        "* Keuntungan utama RNN dua arah adalah sinyal dari awal masukan tidak perlu diproses sepanjang waktu untuk memengaruhi keluaran.\n",
        "\n",
        "* Kerugian utama dari RNN dua arah adalah Anda tidak dapat melakukan streaming prediksi secara efisien saat kata-kata ditambahkan di akhir.\n",
        "\n",
        "* Setelah RNN mengonversi urutan menjadi satu vektor, kedua lapisan tersebut.Dense melakukan beberapa pemrosesan akhir, dan mengonversi representasi vektor ini menjadi logit tunggal sebagai keluaran klasifikasi.\n",
        "\n",
        "Kode nya adalah sebagai berikut :"
      ],
      "metadata": {
        "id": "mp9u4bhJ4V7R"
      }
    },
    {
      "cell_type": "code",
      "source": [
        "model = tf.keras.Sequential([\n",
        "    encoder,\n",
        "    tf.keras.layers.Embedding(\n",
        "        input_dim=len(encoder.get_vocabulary()),\n",
        "        output_dim=64,\n",
        "        # Use masking to handle the variable sequence lengths\n",
        "        mask_zero=True),\n",
        "    tf.keras.layers.Bidirectional(tf.keras.layers.LSTM(64)),\n",
        "    tf.keras.layers.Dense(64, activation='relu'),\n",
        "    tf.keras.layers.Dense(1)\n",
        "])"
      ],
      "metadata": {
        "id": "FCVjkzl_4kpj"
      },
      "execution_count": 25,
      "outputs": []
    },
    {
      "cell_type": "markdown",
      "source": [
        "Harap dicatat bahwa model sekuensial Keras digunakan di sini karena semua lapisan dalam model hanya memiliki masukan tunggal dan menghasilkan keluaran tunggal. Jika Anda ingin menggunakan lapisan RNN stateful, Anda mungkin ingin membangun model Anda dengan API fungsional Keras atau subkelas model sehingga Anda dapat mengambil dan menggunakan kembali status lapisan RNN. Untuk detailnya bisa dilihat pada Keras RNN guide\n",
        "\n",
        "Lapisan penyematan menggunakan masking (uses masking ) untuk menangani panjang urutan yang bervariasi. Semua lapisan setelah penyematan dukungan penyematan"
      ],
      "metadata": {
        "id": "jWM1CZr64nzG"
      }
    },
    {
      "cell_type": "code",
      "source": [
        "print([layer.supports_masking for layer in model.layers])"
      ],
      "metadata": {
        "colab": {
          "base_uri": "https://localhost:8080/"
        },
        "id": "1Hwk278p4olq",
        "outputId": "89cfa889-8c21-48fa-a5a1-382e2734d1c9"
      },
      "execution_count": 26,
      "outputs": [
        {
          "output_type": "stream",
          "name": "stdout",
          "text": [
            "[False, True, True, True, True]\n"
          ]
        }
      ]
    },
    {
      "cell_type": "markdown",
      "source": [
        "Untuk memastikan bahwa ini berfungsi seperti yang diharapkan, evaluasi sebuah kalimat dua kali. Pertama, satu kalimat sehingga tidak ada bantalan (padding) untuk disamarkan:\n",
        "\n",
        "\n"
      ],
      "metadata": {
        "id": "3x8xqqgv4vFT"
      }
    },
    {
      "cell_type": "code",
      "source": [
        "# predict on a sample text without padding.\n",
        "\n",
        "sample_text = ['The movie was cool. The animation and the graphics ',\n",
        "               'were out of this world. I would recommend this movie.']\n",
        "\n",
        "input_tensor = tf.convert_to_tensor(sample_text)\n",
        "predictions = model.predict(input_tensor)\n",
        "print(predictions[0])"
      ],
      "metadata": {
        "colab": {
          "base_uri": "https://localhost:8080/"
        },
        "id": "37OdZPcy4tq8",
        "outputId": "0005e392-cf05-4a1c-c190-2e787e42f51e"
      },
      "execution_count": 45,
      "outputs": [
        {
          "output_type": "stream",
          "name": "stdout",
          "text": [
            "\u001b[1m1/1\u001b[0m \u001b[32m━━━━━━━━━━━━━━━━━━━━\u001b[0m\u001b[37m\u001b[0m \u001b[1m1s\u001b[0m 514ms/step\n",
            "[0.00369856]\n"
          ]
        }
      ]
    },
    {
      "cell_type": "markdown",
      "source": [
        "Sekarang, evaluasi lagi dalam batch dengan kalimat yang lebih panjang. Hasilnya harus sama:"
      ],
      "metadata": {
        "id": "08vJpTvjC7Sy"
      }
    },
    {
      "cell_type": "code",
      "source": [
        "# predict on a sample text with padding\n",
        "\n",
        "padding = \"the \" * 2000\n",
        "text_with_padding = padding + ' '.join(sample_text)\n",
        "input_tensor_with_padding = tf.convert_to_tensor([text_with_padding])\n",
        "predictions = model.predict(input_tensor_with_padding)\n",
        "print(predictions[0])"
      ],
      "metadata": {
        "colab": {
          "base_uri": "https://localhost:8080/"
        },
        "id": "jKLQOTJRC4ky",
        "outputId": "6084f1c2-11b0-4ea1-c573-c1fd6ea0b319"
      },
      "execution_count": 50,
      "outputs": [
        {
          "output_type": "stream",
          "name": "stdout",
          "text": [
            "\u001b[1m1/1\u001b[0m \u001b[32m━━━━━━━━━━━━━━━━━━━━\u001b[0m\u001b[37m\u001b[0m \u001b[1m0s\u001b[0m 228ms/step\n",
            "[0.02223157]\n"
          ]
        }
      ]
    },
    {
      "cell_type": "markdown",
      "source": [
        "compile model Keras untuk mengonfigurasi proses pelatihan:"
      ],
      "metadata": {
        "id": "j3gYXuJ9C-bn"
      }
    },
    {
      "cell_type": "code",
      "source": [
        "model.compile(loss=tf.keras.losses.BinaryCrossentropy(from_logits=True),\n",
        "              optimizer=tf.keras.optimizers.Adam(1e-4),\n",
        "              metrics=['accuracy'])"
      ],
      "metadata": {
        "id": "OwakckWxC_im"
      },
      "execution_count": 51,
      "outputs": []
    },
    {
      "cell_type": "markdown",
      "source": [
        "## Train Model"
      ],
      "metadata": {
        "id": "ny5Ht58QHW4X"
      }
    },
    {
      "cell_type": "code",
      "source": [
        "history = model.fit(train_dataset, epochs=10, validation_data=test_dataset, validation_steps=30)"
      ],
      "metadata": {
        "colab": {
          "base_uri": "https://localhost:8080/"
        },
        "id": "oRrmiTdmHmgR",
        "outputId": "19d55c5d-28d0-4f6a-9acc-1d4853d433dc"
      },
      "execution_count": 52,
      "outputs": [
        {
          "output_type": "stream",
          "name": "stdout",
          "text": [
            "Epoch 1/10\n",
            "\u001b[1m391/391\u001b[0m \u001b[32m━━━━━━━━━━━━━━━━━━━━\u001b[0m\u001b[37m\u001b[0m \u001b[1m737s\u001b[0m 2s/step - accuracy: 0.5157 - loss: 0.6833 - val_accuracy: 0.7437 - val_loss: 0.5120\n",
            "Epoch 2/10\n",
            "\u001b[1m391/391\u001b[0m \u001b[32m━━━━━━━━━━━━━━━━━━━━\u001b[0m\u001b[37m\u001b[0m \u001b[1m699s\u001b[0m 2s/step - accuracy: 0.7581 - loss: 0.4818 - val_accuracy: 0.8188 - val_loss: 0.3692\n",
            "Epoch 3/10\n",
            "\u001b[1m391/391\u001b[0m \u001b[32m━━━━━━━━━━━━━━━━━━━━\u001b[0m\u001b[37m\u001b[0m \u001b[1m717s\u001b[0m 2s/step - accuracy: 0.8383 - loss: 0.3591 - val_accuracy: 0.8677 - val_loss: 0.3130\n",
            "Epoch 4/10\n",
            "\u001b[1m391/391\u001b[0m \u001b[32m━━━━━━━━━━━━━━━━━━━━\u001b[0m\u001b[37m\u001b[0m \u001b[1m735s\u001b[0m 2s/step - accuracy: 0.8498 - loss: 0.3347 - val_accuracy: 0.8536 - val_loss: 0.3338\n",
            "Epoch 5/10\n",
            "\u001b[1m391/391\u001b[0m \u001b[32m━━━━━━━━━━━━━━━━━━━━\u001b[0m\u001b[37m\u001b[0m \u001b[1m741s\u001b[0m 2s/step - accuracy: 0.8625 - loss: 0.3187 - val_accuracy: 0.8479 - val_loss: 0.3242\n",
            "Epoch 6/10\n",
            "\u001b[1m391/391\u001b[0m \u001b[32m━━━━━━━━━━━━━━━━━━━━\u001b[0m\u001b[37m\u001b[0m \u001b[1m748s\u001b[0m 2s/step - accuracy: 0.8682 - loss: 0.3074 - val_accuracy: 0.8526 - val_loss: 0.3593\n",
            "Epoch 7/10\n",
            "\u001b[1m391/391\u001b[0m \u001b[32m━━━━━━━━━━━━━━━━━━━━\u001b[0m\u001b[37m\u001b[0m \u001b[1m708s\u001b[0m 2s/step - accuracy: 0.8662 - loss: 0.3135 - val_accuracy: 0.8396 - val_loss: 0.3176\n",
            "Epoch 8/10\n",
            "\u001b[1m391/391\u001b[0m \u001b[32m━━━━━━━━━━━━━━━━━━━━\u001b[0m\u001b[37m\u001b[0m \u001b[1m715s\u001b[0m 2s/step - accuracy: 0.8652 - loss: 0.3065 - val_accuracy: 0.8646 - val_loss: 0.3088\n",
            "Epoch 9/10\n",
            "\u001b[1m391/391\u001b[0m \u001b[32m━━━━━━━━━━━━━━━━━━━━\u001b[0m\u001b[37m\u001b[0m \u001b[1m738s\u001b[0m 2s/step - accuracy: 0.8721 - loss: 0.2999 - val_accuracy: 0.8557 - val_loss: 0.3117\n",
            "Epoch 10/10\n",
            "\u001b[1m391/391\u001b[0m \u001b[32m━━━━━━━━━━━━━━━━━━━━\u001b[0m\u001b[37m\u001b[0m \u001b[1m741s\u001b[0m 2s/step - accuracy: 0.8714 - loss: 0.2952 - val_accuracy: 0.8557 - val_loss: 0.3246\n"
          ]
        }
      ]
    },
    {
      "cell_type": "code",
      "source": [
        "test_loss, test_acc = model.evaluate(test_dataset)\n",
        "\n",
        "print('Test Loss:', test_loss)\n",
        "print('Test Accuracy:', test_acc)"
      ],
      "metadata": {
        "colab": {
          "base_uri": "https://localhost:8080/"
        },
        "id": "RlHvVkn0Hy5U",
        "outputId": "91511ffb-ddf4-4486-fd80-bc710e3ce0e3"
      },
      "execution_count": 53,
      "outputs": [
        {
          "output_type": "stream",
          "name": "stdout",
          "text": [
            "\u001b[1m391/391\u001b[0m \u001b[32m━━━━━━━━━━━━━━━━━━━━\u001b[0m\u001b[37m\u001b[0m \u001b[1m155s\u001b[0m 397ms/step - accuracy: 0.8537 - loss: 0.3201\n",
            "Test Loss: 0.32112523913383484\n",
            "Test Accuracy: 0.8527600169181824\n"
          ]
        }
      ]
    },
    {
      "cell_type": "code",
      "source": [
        "plt.figure(figsize=(16, 8))\n",
        "plt.subplot(1, 2, 1)\n",
        "plot_graphs(history, 'accuracy')\n",
        "plt.ylim(None, 1)\n",
        "plt.subplot(1, 2, 2)\n",
        "plot_graphs(history, 'loss')\n",
        "plt.ylim(0, None)"
      ],
      "metadata": {
        "colab": {
          "base_uri": "https://localhost:8080/",
          "height": 719
        },
        "id": "YtHAjR79H0K8",
        "outputId": "1e3fade2-3c9d-4981-fb98-10427e6d3d45"
      },
      "execution_count": 54,
      "outputs": [
        {
          "output_type": "execute_result",
          "data": {
            "text/plain": [
              "(0.0, 0.6682502999901772)"
            ]
          },
          "metadata": {},
          "execution_count": 54
        },
        {
          "output_type": "display_data",
          "data": {
            "text/plain": [
              "<Figure size 1600x800 with 2 Axes>"
            ],
            "image/png": "[encoded data removed]"
          },
          "metadata": {}
        }
      ]
    },
    {
      "cell_type": "markdown",
      "source": [
        "Jalankan prediksi pada kalimat baru:\n",
        "\n",
        "Jika prediksi >= 0,0 berarti positif, jika tidak maka negatif."
      ],
      "metadata": {
        "id": "PCtHpVifH1lD"
      }
    },
    {
      "cell_type": "code",
      "source": [
        "sample_text = ['The movie was cool. The animation and the graphics ',\n",
        "               'were out of this world. I would recommend this movie.']\n",
        "\n",
        "input_tensor = tf.convert_to_tensor(sample_text)\n",
        "predictions = model.predict(input_tensor)\n",
        "print(predictions[0])"
      ],
      "metadata": {
        "colab": {
          "base_uri": "https://localhost:8080/"
        },
        "id": "wOaoea1OkWvf",
        "outputId": "1c816df8-fcec-4b04-e604-32d626613c07"
      },
      "execution_count": 56,
      "outputs": [
        {
          "output_type": "stream",
          "name": "stdout",
          "text": [
            "\u001b[1m1/1\u001b[0m \u001b[32m━━━━━━━━━━━━━━━━━━━━\u001b[0m\u001b[37m\u001b[0m \u001b[1m2s\u001b[0m 2s/step\n",
            "[0.81359345]\n"
          ]
        }
      ]
    }
  ]
}